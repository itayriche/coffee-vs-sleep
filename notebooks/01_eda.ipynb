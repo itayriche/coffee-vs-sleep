﻿{
 "cells": [
  {
   "cell_type": "markdown",
   "source": ["# Coffee vs Sleep — EDA\\n","Goal: explore how coffee intake (amount & timing) relates to sleep duration/quality."]
  },
  {
   "cell_type": "code",
   "source": [
    "import pandas as pd, numpy as np\\n",
    "import matplotlib.pyplot as plt\\n",
    "import seaborn as sns\\n",
    "from pathlib import Path\\n",
    "DATA = Path(\"../data/raw\")\\n",
    "df = pd.read_csv(DATA/\"global_coffee_health.csv\")\\n",
    "df.head()"
   ]
  }
 ],
 "metadata": {
  "kernelspec": {"display_name": "coffee-vs-sleep","language": "python","name": "coffee-vs-sleep"}
 },
 "nbformat": 4,
 "nbformat_minor": 5
}
